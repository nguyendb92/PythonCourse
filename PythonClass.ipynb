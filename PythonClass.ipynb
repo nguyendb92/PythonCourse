{
 "cells": [
  {
   "attachments": {},
   "cell_type": "markdown",
   "metadata": {},
   "source": [
    "# python class"
   ]
  },
  {
   "cell_type": "code",
   "execution_count": 9,
   "metadata": {},
   "outputs": [
    {
     "name": "stdout",
     "output_type": "stream",
     "text": [
      "Lan Anh 21 female\n",
      "256\n",
      "I eating something\n",
      "None\n",
      "Viet Nam\n",
      "Viet Nam\n"
     ]
    }
   ],
   "source": [
    "class Person:\n",
    "    address = \"Viet Nam\" # class variable\n",
    "    def __init__(self, name, age, gender):\n",
    "        self.name = name\n",
    "        self.age = age\n",
    "        self.gender = gender # instance variable\n",
    "\n",
    "    def my_sum(self, a, b):\n",
    "        return a + b\n",
    "\n",
    "    def eat(self):\n",
    "        print(\"I eating something\")\n",
    "    \n",
    "    def walk(self):\n",
    "        print(\"i am walking\")\n",
    "\n",
    "    def __str__(self):\n",
    "        return f\"{self.name} {self.age} {self.gender}\"\n",
    "\n",
    "\n",
    "class Student(Person):\n",
    "    pass\n",
    "\n",
    "lan_anh = Person(\"Lan Anh\", 21, \"female\")\n",
    "nguyen = Person(\"Anh Nguyen\", 22, \"Male\")\n",
    "print(lan_anh)\n",
    "print(lan_anh.my_sum(123, 133))\n",
    "print(lan_anh.eat())\n",
    "print(lan_anh.address)\n",
    "print(nguyen.address)"
   ]
  }
 ],
 "metadata": {
  "kernelspec": {
   "display_name": "Python 3",
   "language": "python",
   "name": "python3"
  },
  "language_info": {
   "codemirror_mode": {
    "name": "ipython",
    "version": 3
   },
   "file_extension": ".py",
   "mimetype": "text/x-python",
   "name": "python",
   "nbconvert_exporter": "python",
   "pygments_lexer": "ipython3",
   "version": "3.11.2"
  },
  "orig_nbformat": 4
 },
 "nbformat": 4,
 "nbformat_minor": 2
}
