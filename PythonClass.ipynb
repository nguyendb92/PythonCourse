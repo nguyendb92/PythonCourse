{
 "cells": [
  {
   "attachments": {},
   "cell_type": "markdown",
   "metadata": {},
   "source": [
    "# python class"
   ]
  },
  {
   "attachments": {},
   "cell_type": "markdown",
   "metadata": {},
   "source": [
    "Trong Python, một class là một cấu trúc dữ liệu đặc biệt cho phép bạn định nghĩa một kiểu dữ liệu mới. Một class bao gồm các thuộc tính (attributes) và phương thức (methods) để xử lý dữ liệu của class đó."
   ]
  },
  {
   "cell_type": "code",
   "execution_count": 9,
   "metadata": {},
   "outputs": [
    {
     "name": "stdout",
     "output_type": "stream",
     "text": [
      "Lan Anh 21 female\n",
      "256\n",
      "I eating something\n",
      "None\n",
      "Viet Nam\n",
      "Viet Nam\n"
     ]
    }
   ],
   "source": [
    "class Person:\n",
    "    address = \"Viet Nam\" # class variable\n",
    "    def __init__(self, name, age, gender):\n",
    "        self.name = name\n",
    "        self.age = age\n",
    "        self.gender = gender # instance variable\n",
    "\n",
    "    def my_sum(self, a, b):\n",
    "        return a + b\n",
    "\n",
    "    def eat(self):\n",
    "        print(\"I eating something\")\n",
    "    \n",
    "    def walk(self):\n",
    "        print(\"i am walking\")\n",
    "\n",
    "    def __str__(self):\n",
    "        return f\"{self.name} {self.age} {self.gender}\"\n",
    "\n",
    "\n",
    "class Student(Person):\n",
    "    pass\n",
    "\n",
    "lan_anh = Person(\"Lan Anh\", 21, \"female\")\n",
    "nguyen = Person(\"Anh Nguyen\", 22, \"Male\")\n",
    "print(lan_anh)\n",
    "print(lan_anh.my_sum(123, 133))\n",
    "print(lan_anh.eat())\n",
    "print(lan_anh.address)\n",
    "print(nguyen.address)"
   ]
  },
  {
   "cell_type": "code",
   "execution_count": 4,
   "metadata": {},
   "outputs": [],
   "source": [
    "class Person:\n",
    "    NAME = \"Person\"\n",
    "    def __init__(self, name, age):\n",
    "        self.name = name\n",
    "        self.age = age\n",
    "\n",
    "    def display_info(self):\n",
    "        print(\"Name:\", self.name)\n",
    "        print(\"Age:\", self.age)\n"
   ]
  },
  {
   "attachments": {},
   "cell_type": "markdown",
   "metadata": {},
   "source": [
    "Trong ví dụ này, ta định nghĩa một class có tên là \"Person\". Class này có hai thuộc tính là \"name\" và \"age\". Phương thức \"init\" là phương thức khởi tạo, được gọi khi tạo một đối tượng mới từ class \"Person\". Phương thức này lấy hai tham số đầu vào là \"name\" và \"age\", và gán chúng vào thuộc tính tương ứng của đối tượng. Phương thức \"display_info\" là một phương thức để hiển thị thông tin về đối tượng \"Person\"."
   ]
  },
  {
   "cell_type": "code",
   "execution_count": 5,
   "metadata": {},
   "outputs": [
    {
     "name": "stdout",
     "output_type": "stream",
     "text": [
      "Person\n",
      "Name: John\n",
      "Age: 30\n",
      "Name: Alice\n",
      "Age: 25\n"
     ]
    }
   ],
   "source": [
    "print(Person.NAME)\n",
    "person1 = Person(\"John\", 30)\n",
    "person2 = Person(\"Alice\", 25)\n",
    "\n",
    "person1.display_info()  # Name: John, Age: 30\n",
    "person2.display_info()  # Name: Alice, Age: 25\n"
   ]
  },
  {
   "attachments": {},
   "cell_type": "markdown",
   "metadata": {},
   "source": [
    "Trong ví dụ này, ta tạo hai đối tượng \"Person\" là \"person1\" và \"person2\". Khi tạo các đối tượng này, ta truyền vào hai tham số \"name\" và \"age\" để khởi tạo giá trị cho các thuộc tính của đối tượng. Sau đó, ta gọi phương thức \"display_info\" trên mỗi đối tượng để hiển thị thông tin của nó."
   ]
  },
  {
   "attachments": {},
   "cell_type": "markdown",
   "metadata": {},
   "source": [
    "# 4 tính chất của OOP"
   ]
  },
  {
   "attachments": {},
   "cell_type": "markdown",
   "metadata": {},
   "source": [
    "Tính đóng gói (Encapsulation):\n",
    "\n",
    "Trong ví dụ này, thuộc tính \"_name\" được khai báo với dấu gạch dưới đứng (underscore) nên nó được xem như là thuộc tính private, không thể truy cập từ bên ngoài class. Thuộc tính \"age\" được khai báo mà không có dấu gạch dưới đứng nên nó được xem như là thuộc tính public, có thể truy cập từ bên ngoài class."
   ]
  },
  {
   "cell_type": "code",
   "execution_count": 11,
   "metadata": {},
   "outputs": [
    {
     "name": "stdout",
     "output_type": "stream",
     "text": [
      "John\n",
      "30\n",
      "Name: John\n",
      "Age: 30\n",
      "['__class__', '__delattr__', '__dict__', '__dir__', '__doc__', '__eq__', '__format__', '__ge__', '__getattribute__', '__getstate__', '__gt__', '__hash__', '__init__', '__init_subclass__', '__le__', '__lt__', '__module__', '__ne__', '__new__', '__reduce__', '__reduce_ex__', '__repr__', '__setattr__', '__sizeof__', '__str__', '__subclasshook__', '__weakref__', '_name', 'age', 'display_info']\n"
     ]
    }
   ],
   "source": [
    "class Person:\n",
    "    def __init__(self, name, age):\n",
    "        self._name = name    # thuộc tính private\n",
    "        self.age = age       # thuộc tính public\n",
    "\n",
    "    def display_info(self):\n",
    "        print(\"Name:\", self._name)\n",
    "        print(\"Age:\", self.age)\n",
    "\n",
    "person = Person(\"John\", 30)\n",
    "print(person._name)\n",
    "print(person.age)\n",
    "person.display_info()\n",
    "print(dir(person))\n"
   ]
  },
  {
   "attachments": {},
   "cell_type": "markdown",
   "metadata": {},
   "source": [
    "Tính kế thừa (Inheritance):\n",
    "\n",
    "Trong ví dụ này, lớp con \"Dog\" kế thừa từ lớp cha \"Animal\" và sử dụng phương thức \"move\" của lớp cha. Lớp con cũng định nghĩa thêm phương thức \"bark\"."
   ]
  },
  {
   "cell_type": "code",
   "execution_count": 16,
   "metadata": {},
   "outputs": [
    {
     "name": "stdout",
     "output_type": "stream",
     "text": [
      "move in Animal02\n",
      "Woof!\n",
      "override run()\n"
     ]
    }
   ],
   "source": [
    "class Animal:\n",
    "    def __init__(self, name):\n",
    "        self.name = name\n",
    "\n",
    "    def move(self):\n",
    "        print(self.name, \"is moving\")\n",
    "\n",
    "class Animal02:\n",
    "    def __init__(self, name):\n",
    "        self.name = name\n",
    "\n",
    "    def run(self):\n",
    "        print(self.name, \"is running\")\n",
    "\n",
    "    def move(self):\n",
    "        print(\"move in Animal02\")\n",
    "\n",
    "class Dog(Animal02, Animal):\n",
    "    def bark(self):\n",
    "        print(\"Woof!\")\n",
    "    \n",
    "    def run(self):\n",
    "        print(\"override run()\")\n",
    "\n",
    "dog = Dog(\"Buddy\")\n",
    "dog.move()\n",
    "dog.bark()\n",
    "dog.run()\n"
   ]
  },
  {
   "attachments": {},
   "cell_type": "markdown",
   "metadata": {},
   "source": [
    "Tính đa hình (Polymorphism):\n",
    "\n",
    "Trong ví dụ này, các lớp \"Circle\" và \"Rectangle\" kế thừa từ lớp \"Shape\" và định nghĩa lại phương thức \"draw\". Đối tượng \"shapes\" là một danh sách các đối tượng \"Circle\" và \"Rectangle\". Khi ta gọi phương thức \"draw\" trên mỗi đối tượng, Python sẽ tự động xác định lớp của đối tượng và sử dụng phương thức tương ứng trong lớp đó."
   ]
  },
  {
   "cell_type": "code",
   "execution_count": 17,
   "metadata": {},
   "outputs": [
    {
     "name": "stdout",
     "output_type": "stream",
     "text": [
      "Drawing a circle\n",
      "Drawing a rectangle\n"
     ]
    }
   ],
   "source": [
    "class Shape:\n",
    "    def draw(self):\n",
    "        pass\n",
    "\n",
    "class Circle(Shape):\n",
    "    def draw(self):\n",
    "        print(\"Drawing a circle\")\n",
    "\n",
    "class Rectangle(Shape):\n",
    "    def draw(self):\n",
    "        print(\"Drawing a rectangle\")\n",
    "\n",
    "shapes = [Circle(), Rectangle()]\n",
    "\n",
    "for shape in shapes:\n",
    "    shape.draw()\n"
   ]
  },
  {
   "attachments": {},
   "cell_type": "markdown",
   "metadata": {},
   "source": [
    "Tính trừu tượng (Abstraction):\n",
    "\n",
    "Trong ví dụ này, lớp \"Shape\" được định nghĩa là một lớp trừu tượng bằng cách sử dụng decorator \"@abstractmethod\" để đánh dấu phương thức \"draw\" là một phương thức trừu tượng, tức là phương thức này sẽ không có định nghĩa cụ thể trong lớp \"Shape\", mà sẽ được định nghĩa lại trong các lớp con. Lớp \"Circle\" kế thừa từ lớp \"Shape\" và định nghĩa lại phương thức \"draw\". Trong đoạn code cuối cùng, ta tạo một danh sách các đối tượng \"Circle\" và gọi phương thức \"draw\" trên mỗi đối tượng. Bởi vì phương thức \"draw\" đã được định nghĩa lại trong lớp \"Circle\", nên việc gọi phương thức này trên đối tượng \"Circle\" là hợp lệ."
   ]
  },
  {
   "cell_type": "code",
   "execution_count": 1,
   "metadata": {},
   "outputs": [
    {
     "name": "stdout",
     "output_type": "stream",
     "text": [
      "Drawing a circle\n"
     ]
    }
   ],
   "source": [
    "from abc import ABC, abstractmethod\n",
    "\n",
    "class Shape(ABC):\n",
    "    @abstractmethod\n",
    "    def draw(self):\n",
    "        pass\n",
    "\n",
    "class Circle(Shape):\n",
    "    def draw(self):\n",
    "        print(\"Drawing a circle\")\n",
    "\n",
    "    def draw2(self):\n",
    "        print(\"Drawing a circle\")\n",
    "\n",
    "shapes = [Circle()]\n",
    "\n",
    "for shape in shapes:\n",
    "    shape.draw()"
   ]
  },
  {
   "attachments": {},
   "cell_type": "markdown",
   "metadata": {},
   "source": [
    "Trong Python, staticmethod và classmethod là hai loại decorator của class. Chúng được sử dụng để đánh dấu các method của class nhằm chỉ ra cách chúng sẽ được sử dụng và được gọi trong code.\n",
    "\n",
    "Static Method\n",
    "staticmethod là một decorator được sử dụng để đánh dấu một method của class như một static method. Một static method là một method được định nghĩa trong class, nhưng không cần đối tượng của class để gọi nó. Nó có thể được gọi trực tiếp từ tên của class.\n",
    "\n",
    "Để đánh dấu một method của class là một static method, bạn chỉ cần thêm decorator staticmethod vào trước method đó. Ví dụ:"
   ]
  },
  {
   "cell_type": "code",
   "execution_count": 3,
   "metadata": {},
   "outputs": [
    {
     "name": "stdout",
     "output_type": "stream",
     "text": [
      "7\n"
     ]
    }
   ],
   "source": [
    "class MyClass:\n",
    "    @staticmethod\n",
    "    def my_static_method(x, y):\n",
    "        return x + y\n",
    "\n",
    "# Không cần tạo đối tượng, ta có thể gọi trực tiếp từ tên class\n",
    "result = MyClass.my_static_method(3, 4)\n",
    "print(result)  # Output: 7\n"
   ]
  },
  {
   "attachments": {},
   "cell_type": "markdown",
   "metadata": {},
   "source": [
    "Class Method\n",
    "classmethod là một decorator được sử dụng để đánh dấu một method của class như một class method. Một class method là một method được định nghĩa trong class, nhưng được truyền vào class chứ không phải instance của class.\n",
    "\n",
    "Để đánh dấu một method của class là một class method, bạn chỉ cần thêm decorator classmethod vào trước method đó. Ví dụ:"
   ]
  },
  {
   "cell_type": "code",
   "execution_count": 2,
   "metadata": {},
   "outputs": [
    {
     "name": "stdout",
     "output_type": "stream",
     "text": [
      "2\n"
     ]
    }
   ],
   "source": [
    "class MyClass:\n",
    "    count = 0\n",
    "    \n",
    "    def __init__(self):\n",
    "        MyClass.count += 1\n",
    "        \n",
    "    @classmethod\n",
    "    def get_count(cls):\n",
    "        return cls.count\n",
    "\n",
    "obj1 = MyClass()\n",
    "obj2 = MyClass()\n",
    "\n",
    "# Gọi class method bằng cách truyền vào class, không phải instance\n",
    "print(MyClass.get_count())  # Output: 2\n"
   ]
  },
  {
   "attachments": {},
   "cell_type": "markdown",
   "metadata": {},
   "source": [
    "Trong ví dụ trên, get_count() là một class method của class MyClass. Method này được sử dụng để đếm số lượng instance của class đã được tạo ra. Chúng ta có thể gọi method này bằng cách truyền vào class, không cần phải tạo đối tượng của class.\n",
    "\n",
    "Như vậy, staticmethod và classmethod là hai decorator được sử dụng để đánh dấu một method của class là một static method hoặc class method. Chúng ta có thể sử dụng chúng để cải thiện cấu trúc code và làm cho code dễ đọc hơn."
   ]
  },
  {
   "cell_type": "code",
   "execution_count": 4,
   "metadata": {},
   "outputs": [],
   "source": [
    "class Person:\n",
    "    def __init__(self, name, age, email):\n",
    "        self.name = name\n",
    "        self.age = age\n",
    "        self.email = email\n",
    "    \n",
    "    @classmethod\n",
    "    def from_string(cls, string):\n",
    "        name, age, email = string.split('-')\n",
    "        return cls(name, int(age), email)\n"
   ]
  },
  {
   "cell_type": "code",
   "execution_count": 5,
   "metadata": {},
   "outputs": [
    {
     "name": "stdout",
     "output_type": "stream",
     "text": [
      "John\n",
      "30\n",
      "john@example.com\n"
     ]
    }
   ],
   "source": [
    "person1 = Person.from_string(\"John-30-john@example.com\")\n",
    "print(person1.name)  # output: John\n",
    "print(person1.age)  # output: 30\n",
    "print(person1.email)  # output: john@example.com\n"
   ]
  },
  {
   "attachments": {},
   "cell_type": "markdown",
   "metadata": {},
   "source": [
    "Ở đây, phương thức \"from_string\" đã được sử dụng để tạo ra một instance mới của class Person từ chuỗi thông tin \"John-30-john@example.com\". Kết quả đầu ra khi in ra các thông tin về instance này cho thấy rằng phương thức classmethod đã hoạt động đúng như mong đợi."
   ]
  },
  {
   "attachments": {},
   "cell_type": "markdown",
   "metadata": {},
   "source": [
    "# Quiz test"
   ]
  },
  {
   "attachments": {},
   "cell_type": "markdown",
   "metadata": {},
   "source": [
    "```\n",
    "What is a static method in Python?\n",
    "a) A method that can only be called on an instance of a class.\n",
    "b) A method that can only be called on the class itself, not on instances of the class.\n",
    "c) A method that takes only one argument.\n",
    "d) A method that can only be called from within the class.\n",
    "\n",
    "What is a class method in Python?\n",
    "a) A method that can only be called on an instance of a class.\n",
    "b) A method that can only be called on the class itself, not on instances of the class.\n",
    "c) A method that takes only one argument.\n",
    "d) A method that can only be called from within the class.\n",
    "\n",
    "How do you define a static method in Python?\n",
    "a) By using the @staticmethod decorator before the method definition.\n",
    "b) By using the @classmethod decorator before the method definition.\n",
    "c) By using the @property decorator before the method definition.\n",
    "d) By using the @staticmethod and @classmethod decorators together before the method definition.\n",
    "\n",
    "How do you define a class method in Python?\n",
    "a) By using the @staticmethod decorator before the method definition.\n",
    "b) By using the @classmethod decorator before the method definition.\n",
    "c) By using the @property decorator before the method definition.\n",
    "d) By using the @staticmethod and @classmethod decorators together before the method definition.\n",
    "\n",
    "Can you call a static method on an instance of a class in Python?\n",
    "a) Yes\n",
    "b) No\n",
    "\n",
    "Can you call a class method on an instance of a class in Python?\n",
    "a) Yes\n",
    "b) No\n",
    "\n",
    "What is the difference between a static method and a class method in Python?\n",
    "a) A static method can only be called on the class itself, not on instances of the class, while a class method can be called on both the class and its instances.\n",
    "b) A static method can only be called on instances of a class, while a class method can only be called on the class itself.\n",
    "c) There is no difference between a static method and a class method in Python.\n",
    "d) A static method takes only one argument, while a class method can take multiple arguments.\n",
    "\n",
    "Why might you use a static method in Python?\n",
    "a) To perform a calculation that doesn't depend on the state of the class or its instances.\n",
    "b) To perform a calculation that depends on the state of the class or its instances.\n",
    "c) To create a new instance of a class.\n",
    "d) To modify an existing instance of a class.\n",
    "\n",
    "Why might you use a class method in Python?\n",
    "a) To perform a calculation that doesn't depend on the state of the class or its instances.\n",
    "b) To perform a calculation that depends on the state of the class or its instances.\n",
    "c) To create a new instance of a class.\n",
    "d) To modify an existing instance of a class.\n",
    "\n",
    "How do you call a static method or class method in Python?\n",
    "a) By calling the method on an instance of the class.\n",
    "b) By calling the method on the class itself.\n",
    "c) By passing the method as an argument to another function.\n",
    "d) By using the call method on the method object.\n",
    "```"
   ]
  },
  {
   "attachments": {},
   "cell_type": "markdown",
   "metadata": {},
   "source": [
    "Summary:\n",
    "\n",
    "> staticmethod và classmethod là hai loại decorator trong Python dùng để tạo các phương thức đặc biệt trong một class\n",
    "> staticmethod cho phép ta tạo một phương thức độc lập với các instance của class, nghĩa là phương thức này không yêu cầu bất kỳ tham số nào liên quan đến trạng thái của instance hoặc class\n",
    "> classmethod cũng là một loại phương thức đặc biệt, nhưng khác với staticmethod là phương thức này được gắn liền với class chứ không phải instance. Classmethod cho phép truy cập vào các > > > thuộc tính và phương thức của class mà không cần tạo instance.\n",
    "> Cả staticmethod và classmethod đều được gọi thông qua tên class, thay vì thông qua một instance của class. Sử dụng staticmethod hoặc classmethod làm cho code dễ đọc và dễ hiểu hơn trong một số trường hợp đặc biệt."
   ]
  }
 ],
 "metadata": {
  "kernelspec": {
   "display_name": "Python 3",
   "language": "python",
   "name": "python3"
  },
  "language_info": {
   "codemirror_mode": {
    "name": "ipython",
    "version": 3
   },
   "file_extension": ".py",
   "mimetype": "text/x-python",
   "name": "python",
   "nbconvert_exporter": "python",
   "pygments_lexer": "ipython3",
   "version": "3.11.2"
  },
  "orig_nbformat": 4
 },
 "nbformat": 4,
 "nbformat_minor": 2
}
