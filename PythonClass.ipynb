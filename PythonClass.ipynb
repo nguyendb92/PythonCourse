{
 "cells": [
  {
   "attachments": {},
   "cell_type": "markdown",
   "metadata": {},
   "source": [
    "# python class"
   ]
  },
  {
   "attachments": {},
   "cell_type": "markdown",
   "metadata": {},
   "source": [
    "Trong Python, một class là một cấu trúc dữ liệu đặc biệt cho phép bạn định nghĩa một kiểu dữ liệu mới. Một class bao gồm các thuộc tính (attributes) và phương thức (methods) để xử lý dữ liệu của class đó."
   ]
  },
  {
   "cell_type": "code",
   "execution_count": 9,
   "metadata": {},
   "outputs": [
    {
     "name": "stdout",
     "output_type": "stream",
     "text": [
      "Lan Anh 21 female\n",
      "256\n",
      "I eating something\n",
      "None\n",
      "Viet Nam\n",
      "Viet Nam\n"
     ]
    }
   ],
   "source": [
    "class Person:\n",
    "    address = \"Viet Nam\" # class variable\n",
    "    def __init__(self, name, age, gender):\n",
    "        self.name = name\n",
    "        self.age = age\n",
    "        self.gender = gender # instance variable\n",
    "\n",
    "    def my_sum(self, a, b):\n",
    "        return a + b\n",
    "\n",
    "    def eat(self):\n",
    "        print(\"I eating something\")\n",
    "    \n",
    "    def walk(self):\n",
    "        print(\"i am walking\")\n",
    "\n",
    "    def __str__(self):\n",
    "        return f\"{self.name} {self.age} {self.gender}\"\n",
    "\n",
    "\n",
    "class Student(Person):\n",
    "    pass\n",
    "\n",
    "lan_anh = Person(\"Lan Anh\", 21, \"female\")\n",
    "nguyen = Person(\"Anh Nguyen\", 22, \"Male\")\n",
    "print(lan_anh)\n",
    "print(lan_anh.my_sum(123, 133))\n",
    "print(lan_anh.eat())\n",
    "print(lan_anh.address)\n",
    "print(nguyen.address)"
   ]
  },
  {
   "cell_type": "code",
   "execution_count": 4,
   "metadata": {},
   "outputs": [],
   "source": [
    "class Person:\n",
    "    NAME = \"Person\"\n",
    "    def __init__(self, name, age):\n",
    "        self.name = name\n",
    "        self.age = age\n",
    "\n",
    "    def display_info(self):\n",
    "        print(\"Name:\", self.name)\n",
    "        print(\"Age:\", self.age)\n"
   ]
  },
  {
   "attachments": {},
   "cell_type": "markdown",
   "metadata": {},
   "source": [
    "Trong ví dụ này, ta định nghĩa một class có tên là \"Person\". Class này có hai thuộc tính là \"name\" và \"age\". Phương thức \"init\" là phương thức khởi tạo, được gọi khi tạo một đối tượng mới từ class \"Person\". Phương thức này lấy hai tham số đầu vào là \"name\" và \"age\", và gán chúng vào thuộc tính tương ứng của đối tượng. Phương thức \"display_info\" là một phương thức để hiển thị thông tin về đối tượng \"Person\"."
   ]
  },
  {
   "cell_type": "code",
   "execution_count": 5,
   "metadata": {},
   "outputs": [
    {
     "name": "stdout",
     "output_type": "stream",
     "text": [
      "Person\n",
      "Name: John\n",
      "Age: 30\n",
      "Name: Alice\n",
      "Age: 25\n"
     ]
    }
   ],
   "source": [
    "print(Person.NAME)\n",
    "person1 = Person(\"John\", 30)\n",
    "person2 = Person(\"Alice\", 25)\n",
    "\n",
    "person1.display_info()  # Name: John, Age: 30\n",
    "person2.display_info()  # Name: Alice, Age: 25\n"
   ]
  },
  {
   "attachments": {},
   "cell_type": "markdown",
   "metadata": {},
   "source": [
    "Trong ví dụ này, ta tạo hai đối tượng \"Person\" là \"person1\" và \"person2\". Khi tạo các đối tượng này, ta truyền vào hai tham số \"name\" và \"age\" để khởi tạo giá trị cho các thuộc tính của đối tượng. Sau đó, ta gọi phương thức \"display_info\" trên mỗi đối tượng để hiển thị thông tin của nó."
   ]
  },
  {
   "attachments": {},
   "cell_type": "markdown",
   "metadata": {},
   "source": [
    "# 4 tính chất của OOP"
   ]
  },
  {
   "attachments": {},
   "cell_type": "markdown",
   "metadata": {},
   "source": [
    "Tính đóng gói (Encapsulation):\n",
    "\n",
    "Trong ví dụ này, thuộc tính \"_name\" được khai báo với dấu gạch dưới đứng (underscore) nên nó được xem như là thuộc tính private, không thể truy cập từ bên ngoài class. Thuộc tính \"age\" được khai báo mà không có dấu gạch dưới đứng nên nó được xem như là thuộc tính public, có thể truy cập từ bên ngoài class."
   ]
  },
  {
   "cell_type": "code",
   "execution_count": 11,
   "metadata": {},
   "outputs": [
    {
     "name": "stdout",
     "output_type": "stream",
     "text": [
      "John\n",
      "30\n",
      "Name: John\n",
      "Age: 30\n",
      "['__class__', '__delattr__', '__dict__', '__dir__', '__doc__', '__eq__', '__format__', '__ge__', '__getattribute__', '__getstate__', '__gt__', '__hash__', '__init__', '__init_subclass__', '__le__', '__lt__', '__module__', '__ne__', '__new__', '__reduce__', '__reduce_ex__', '__repr__', '__setattr__', '__sizeof__', '__str__', '__subclasshook__', '__weakref__', '_name', 'age', 'display_info']\n"
     ]
    }
   ],
   "source": [
    "class Person:\n",
    "    def __init__(self, name, age):\n",
    "        self._name = name    # thuộc tính private\n",
    "        self.age = age       # thuộc tính public\n",
    "\n",
    "    def display_info(self):\n",
    "        print(\"Name:\", self._name)\n",
    "        print(\"Age:\", self.age)\n",
    "\n",
    "person = Person(\"John\", 30)\n",
    "print(person._name)\n",
    "print(person.age)\n",
    "person.display_info()\n",
    "print(dir(person))\n"
   ]
  },
  {
   "attachments": {},
   "cell_type": "markdown",
   "metadata": {},
   "source": [
    "Tính kế thừa (Inheritance):\n",
    "\n",
    "Trong ví dụ này, lớp con \"Dog\" kế thừa từ lớp cha \"Animal\" và sử dụng phương thức \"move\" của lớp cha. Lớp con cũng định nghĩa thêm phương thức \"bark\"."
   ]
  },
  {
   "cell_type": "code",
   "execution_count": 16,
   "metadata": {},
   "outputs": [
    {
     "name": "stdout",
     "output_type": "stream",
     "text": [
      "move in Animal02\n",
      "Woof!\n",
      "override run()\n"
     ]
    }
   ],
   "source": [
    "class Animal:\n",
    "    def __init__(self, name):\n",
    "        self.name = name\n",
    "\n",
    "    def move(self):\n",
    "        print(self.name, \"is moving\")\n",
    "\n",
    "class Animal02:\n",
    "    def __init__(self, name):\n",
    "        self.name = name\n",
    "\n",
    "    def run(self):\n",
    "        print(self.name, \"is running\")\n",
    "\n",
    "    def move(self):\n",
    "        print(\"move in Animal02\")\n",
    "\n",
    "class Dog(Animal02, Animal):\n",
    "    def bark(self):\n",
    "        print(\"Woof!\")\n",
    "    \n",
    "    def run(self):\n",
    "        print(\"override run()\")\n",
    "\n",
    "dog = Dog(\"Buddy\")\n",
    "dog.move()\n",
    "dog.bark()\n",
    "dog.run()\n"
   ]
  },
  {
   "attachments": {},
   "cell_type": "markdown",
   "metadata": {},
   "source": [
    "Tính đa hình (Polymorphism):\n",
    "\n",
    "Trong ví dụ này, các lớp \"Circle\" và \"Rectangle\" kế thừa từ lớp \"Shape\" và định nghĩa lại phương thức \"draw\". Đối tượng \"shapes\" là một danh sách các đối tượng \"Circle\" và \"Rectangle\". Khi ta gọi phương thức \"draw\" trên mỗi đối tượng, Python sẽ tự động xác định lớp của đối tượng và sử dụng phương thức tương ứng trong lớp đó."
   ]
  },
  {
   "cell_type": "code",
   "execution_count": 17,
   "metadata": {},
   "outputs": [
    {
     "name": "stdout",
     "output_type": "stream",
     "text": [
      "Drawing a circle\n",
      "Drawing a rectangle\n"
     ]
    }
   ],
   "source": [
    "class Shape:\n",
    "    def draw(self):\n",
    "        pass\n",
    "\n",
    "class Circle(Shape):\n",
    "    def draw(self):\n",
    "        print(\"Drawing a circle\")\n",
    "\n",
    "class Rectangle(Shape):\n",
    "    def draw(self):\n",
    "        print(\"Drawing a rectangle\")\n",
    "\n",
    "shapes = [Circle(), Rectangle()]\n",
    "\n",
    "for shape in shapes:\n",
    "    shape.draw()\n"
   ]
  },
  {
   "attachments": {},
   "cell_type": "markdown",
   "metadata": {},
   "source": [
    "Tính trừu tượng (Abstraction):\n",
    "\n",
    "Trong ví dụ này, lớp \"Shape\" được định nghĩa là một lớp trừu tượng bằng cách sử dụng decorator \"@abstractmethod\" để đánh dấu phương thức \"draw\" là một phương thức trừu tượng, tức là phương thức này sẽ không có định nghĩa cụ thể trong lớp \"Shape\", mà sẽ được định nghĩa lại trong các lớp con. Lớp \"Circle\" kế thừa từ lớp \"Shape\" và định nghĩa lại phương thức \"draw\". Trong đoạn code cuối cùng, ta tạo một danh sách các đối tượng \"Circle\" và gọi phương thức \"draw\" trên mỗi đối tượng. Bởi vì phương thức \"draw\" đã được định nghĩa lại trong lớp \"Circle\", nên việc gọi phương thức này trên đối tượng \"Circle\" là hợp lệ."
   ]
  },
  {
   "cell_type": "code",
   "execution_count": 19,
   "metadata": {},
   "outputs": [
    {
     "ename": "TypeError",
     "evalue": "Can't instantiate abstract class Circle with abstract method draw",
     "output_type": "error",
     "traceback": [
      "\u001b[1;31m---------------------------------------------------------------------------\u001b[0m",
      "\u001b[1;31mTypeError\u001b[0m                                 Traceback (most recent call last)",
      "Cell \u001b[1;32mIn[19], line 15\u001b[0m\n\u001b[0;32m     12\u001b[0m     \u001b[39mdef\u001b[39;00m \u001b[39mdraw2\u001b[39m(\u001b[39mself\u001b[39m):\n\u001b[0;32m     13\u001b[0m         \u001b[39mprint\u001b[39m(\u001b[39m\"\u001b[39m\u001b[39mDrawing a circle\u001b[39m\u001b[39m\"\u001b[39m)\n\u001b[1;32m---> 15\u001b[0m shapes \u001b[39m=\u001b[39m [Circle()]\n\u001b[0;32m     17\u001b[0m \u001b[39mfor\u001b[39;00m shape \u001b[39min\u001b[39;00m shapes:\n\u001b[0;32m     18\u001b[0m     shape\u001b[39m.\u001b[39mdraw()\n",
      "\u001b[1;31mTypeError\u001b[0m: Can't instantiate abstract class Circle with abstract method draw"
     ]
    }
   ],
   "source": [
    "from abc import ABC, abstractmethod\n",
    "\n",
    "class Shape(ABC):\n",
    "    @abstractmethod\n",
    "    def draw(self):\n",
    "        pass\n",
    "\n",
    "class Circle(Shape):\n",
    "    def draw(self):\n",
    "        print(\"Drawing a circle\")\n",
    "\n",
    "    def draw2(self):\n",
    "        print(\"Drawing a circle\")\n",
    "\n",
    "shapes = [Circle()]\n",
    "\n",
    "for shape in shapes:\n",
    "    shape.draw()\n"
   ]
  }
 ],
 "metadata": {
  "kernelspec": {
   "display_name": "Python 3",
   "language": "python",
   "name": "python3"
  },
  "language_info": {
   "codemirror_mode": {
    "name": "ipython",
    "version": 3
   },
   "file_extension": ".py",
   "mimetype": "text/x-python",
   "name": "python",
   "nbconvert_exporter": "python",
   "pygments_lexer": "ipython3",
   "version": "3.11.2"
  },
  "orig_nbformat": 4
 },
 "nbformat": 4,
 "nbformat_minor": 2
}
