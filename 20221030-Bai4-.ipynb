{
 "cells": [
  {
   "cell_type": "code",
   "execution_count": 4,
   "metadata": {},
   "outputs": [
    {
     "name": "stdout",
     "output_type": "stream",
     "text": [
      "\u001b[1;31mDocstring:\u001b[0m\n",
      "S.format(*args, **kwargs) -> str\n",
      "\n",
      "Return a formatted version of S, using substitutions from args and kwargs.\n",
      "The substitutions are identified by braces ('{' and '}').\n",
      "\u001b[1;31mType:\u001b[0m      builtin_function_or_method\n"
     ]
    }
   ],
   "source": [
    "# Để xem hướng dẫn sử dụng các method trong ipython\n",
    "#VD\n",
    "s = \"string\"\n",
    "s.format?"
   ]
  },
  {
   "cell_type": "code",
   "execution_count": 6,
   "metadata": {},
   "outputs": [
    {
     "name": "stdout",
     "output_type": "stream",
     "text": [
      "2\n",
      "1\n",
      "hello\n"
     ]
    }
   ],
   "source": [
    "# String\n",
    "\n",
    "s = \"hello ipython\"\n",
    "print(s.count(\"o\"))\n",
    "print(s.index(\"e\"))\n",
    "print(s[0:5])"
   ]
  },
  {
   "cell_type": "code",
   "execution_count": 18,
   "metadata": {},
   "outputs": [
    {
     "name": "stdout",
     "output_type": "stream",
     "text": [
      "nohtypi\n",
      "olleh\n"
     ]
    }
   ],
   "source": [
    "# Đảo ngược string s thì làm thế nào ?\n",
    "print(s[:5:-1])\n",
    "\n",
    "# print(s[::])\n",
    "new_string = s[0:5]\n",
    "print(new_string[::-1])"
   ]
  },
  {
   "cell_type": "code",
   "execution_count": 35,
   "metadata": {},
   "outputs": [
    {
     "name": "stdout",
     "output_type": "stream",
     "text": [
      "Lan Anh có nghe thấy không em ơi!!!!có nghe thấy không em ơi\n",
      "có nghe thấy Anh nói không em ơi\n",
      "Có Nghe Thấy Không Em Ơi\n",
      "Có nghe thấy không em ơi\n",
      "CÓ NGHE THẤY KHÔNG EM ƠI\n",
      "có nghe thấy không em ơi\n"
     ]
    }
   ],
   "source": [
    "s2 = \"có nghe thấy không em ơi\"\n",
    "# sửa cái s2 thành \"Lan Anh có nghe thấy không em ơi\"\n",
    "q = \"Lan Anh \" + s2 + \"!!!!\" + s2\n",
    "print(q)\n",
    "s3 = s2.replace(\"thấy không\", \"thấy Anh nói không\")\n",
    "print(s3)\n",
    "print(s2.title())\n",
    "print(s2.capitalize())\n",
    "s4 = s2.upper()\n",
    "print(s4)\n",
    "print(s4.lower())"
   ]
  },
  {
   "cell_type": "markdown",
   "metadata": {},
   "source": [
    "# Format string\n",
    "- F-string\n",
    "- format()\n",
    "- %"
   ]
  },
  {
   "cell_type": "code",
   "execution_count": 43,
   "metadata": {},
   "outputs": [
    {
     "name": "stdout",
     "output_type": "stream",
     "text": [
      "Lan anh muon tro thanh lap trinh vien python\n",
      "Lan Anh is_want_to_become_python_developer\n",
      "Lan Anh 1 is_want_to_become_python_developer\n",
      "Lan Anh 2 is_want_to_become_python_developer\n",
      "Nguyen is_want_to_become_python_developer\n"
     ]
    }
   ],
   "source": [
    "input_string = \"Lan anh muon tro thanh lap trinh vien python\"\n",
    "print(input_string)\n",
    "\n",
    "def developer(name=\"Nguyen\", *args, **kwargs):\n",
    "    print(f\"{name} is_want_to_become_python_developer\")\n",
    "\n",
    "developer(\"Lan Anh\")\n",
    "developer(\"Lan Anh 1\")\n",
    "developer(\"Lan Anh 2\")\n",
    "developer(\"Nguyen\")"
   ]
  },
  {
   "cell_type": "code",
   "execution_count": 6,
   "metadata": {},
   "outputs": [
    {
     "name": "stdout",
     "output_type": "stream",
     "text": [
      "Lan anh muon tro thanh lap trinh vien python\n",
      "Nguyen is_want_to_become_python_developer\n",
      "Value None\n"
     ]
    }
   ],
   "source": [
    "input_string = \"Lan anh muon tro thanh lap trinh vien python\"\n",
    "print(input_string)\n",
    "\n",
    "def developer(name=\"Lan Anh\"):\n",
    "    print(\"{} is_want_to_become_python_developer\".format(name))\n",
    "    return name + \" is developer\"\n",
    "\n",
    "value = developer(\"Nguyen\")\n",
    "print(\"Value\", value)\n",
    "\n",
    "\n"
   ]
  },
  {
   "cell_type": "code",
   "execution_count": 1,
   "metadata": {},
   "outputs": [
    {
     "name": "stdout",
     "output_type": "stream",
     "text": [
      "Lan anh muon tro thanh lap trinh vien python\n",
      "Lan Anh is_want_to_become_python_developer Lan Anh\n"
     ]
    },
    {
     "data": {
      "text/plain": [
       "'Lan Anh is_want_to_become_python_developer Lan Anh'"
      ]
     },
     "execution_count": 1,
     "metadata": {},
     "output_type": "execute_result"
    }
   ],
   "source": [
    "input_string = \"Lan anh muon tro thanh lap trinh vien python\"\n",
    "print(input_string)\n",
    "\n",
    "def developer(name=\"Lan Anh\"):\n",
    "    print(\"%(name)s is_want_to_become_python_developer %(name)s\" % {\"name\": name})\n",
    "    return (\"%(name)s is_want_to_become_python_developer %(name)s\" % {\"name\": name})\n",
    "\n",
    "developer()"
   ]
  },
  {
   "cell_type": "code",
   "execution_count": 61,
   "metadata": {},
   "outputs": [
    {
     "name": "stdout",
     "output_type": "stream",
     "text": [
      "EndSwith: frontend\n"
     ]
    }
   ],
   "source": [
    "# check chuỗi có đoạn word bắt đầu và kết thúc\n",
    "s = \"Javascript la mot ngon ngu lap trinh frontend\"\n",
    "if (s.startswith(\"python\")):\n",
    "    print(\"StartsWith: \", \"python\")\n",
    "\n",
    "if (s.endswith(\"frontend\")):\n",
    "    print(\"EndSwith: frontend\")"
   ]
  },
  {
   "cell_type": "code",
   "execution_count": 66,
   "metadata": {},
   "outputs": [
    {
     "name": "stdout",
     "output_type": "stream",
     "text": [
      "False\n"
     ]
    }
   ],
   "source": [
    "string = \"123abc#\"\n",
    "# string.isalnum?\n",
    "print(string.isalnum())"
   ]
  },
  {
   "cell_type": "code",
   "execution_count": 67,
   "metadata": {},
   "outputs": [
    {
     "name": "stdout",
     "output_type": "stream",
     "text": [
      "\u001b[1;31mSignature:\u001b[0m \u001b[0mstring\u001b[0m\u001b[1;33m.\u001b[0m\u001b[0misalpha\u001b[0m\u001b[1;33m(\u001b[0m\u001b[1;33m)\u001b[0m\u001b[1;33m\u001b[0m\u001b[1;33m\u001b[0m\u001b[0m\n",
      "\u001b[1;31mDocstring:\u001b[0m\n",
      "Return True if the string is an alphabetic string, False otherwise.\n",
      "\n",
      "A string is alphabetic if all characters in the string are alphabetic and there\n",
      "is at least one character in the string.\n",
      "\u001b[1;31mType:\u001b[0m      builtin_function_or_method\n"
     ]
    }
   ],
   "source": [
    "string.isalpha"
   ]
  },
  {
   "cell_type": "code",
   "execution_count": 71,
   "metadata": {},
   "outputs": [
    {
     "data": {
      "text/plain": [
       "['ab', 'ef']"
      ]
     },
     "execution_count": 71,
     "metadata": {},
     "output_type": "execute_result"
    }
   ],
   "source": [
    "string.isalpha()\n",
    "string = \"abcef\"\n",
    "string.isalpha()\n",
    "string.split(\"c\")"
   ]
  },
  {
   "cell_type": "code",
   "execution_count": 77,
   "metadata": {},
   "outputs": [
    {
     "name": "stdout",
     "output_type": "stream",
     "text": [
      "['   Nguyen ', ' Lan Anh  ']\n",
      "Nguyen Thi Lan Anh\n"
     ]
    }
   ],
   "source": [
    "name = \"   Nguyen Thi Lan Anh  \"\n",
    "result = name.split(\"Thi\")\n",
    "print(result)\n",
    "''.join(result)\n",
    "print(name.strip())"
   ]
  }
 ],
 "metadata": {
  "kernelspec": {
   "display_name": "Python 3.10.8 ('venv': venv)",
   "language": "python",
   "name": "python3"
  },
  "language_info": {
   "codemirror_mode": {
    "name": "ipython",
    "version": 3
   },
   "file_extension": ".py",
   "mimetype": "text/x-python",
   "name": "python",
   "nbconvert_exporter": "python",
   "pygments_lexer": "ipython3",
   "version": "3.10.8"
  },
  "orig_nbformat": 4,
  "vscode": {
   "interpreter": {
    "hash": "344cf87e82846b8baa72eef03416ddf435a631f3f9fe88eeac8a4480010abfd5"
   }
  }
 },
 "nbformat": 4,
 "nbformat_minor": 2
}
