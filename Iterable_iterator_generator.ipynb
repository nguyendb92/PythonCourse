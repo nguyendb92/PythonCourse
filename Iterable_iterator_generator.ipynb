{
 "cells": [
  {
   "attachments": {},
   "cell_type": "markdown",
   "metadata": {},
   "source": [
    "# Iterable, Iterator, Generator"
   ]
  },
  {
   "attachments": {},
   "cell_type": "markdown",
   "metadata": {},
   "source": [
    "# Iterable"
   ]
  },
  {
   "attachments": {},
   "cell_type": "markdown",
   "metadata": {},
   "source": [
    "Trong Python, iterable là một đối tượng có thể được lặp lại, có thể là một danh sách, một bộ, một chuỗi hoặc bất kỳ đối tượng nào có thể được lặp lại bằng cách sử dụng vòng lặp for. Các đối tượng iterable có thể được chuyển đổi thành iterator bằng cách sử dụng hàm iter()."
   ]
  },
  {
   "cell_type": "code",
   "execution_count": 1,
   "metadata": {},
   "outputs": [
    {
     "name": "stdout",
     "output_type": "stream",
     "text": [
      "1\n",
      "2\n",
      "3\n"
     ]
    }
   ],
   "source": [
    "my_list = [1, 2, 3]\n",
    "for item in my_list:\n",
    "    print(item)\n"
   ]
  },
  {
   "attachments": {},
   "cell_type": "markdown",
   "metadata": {},
   "source": [
    "Trong ví dụ trên, my_list là một đối tượng iterable và for lặp lại các phần tử của nó một cách tuần tự."
   ]
  },
  {
   "attachments": {},
   "cell_type": "markdown",
   "metadata": {},
   "source": [
    "# Iterator"
   ]
  },
  {
   "attachments": {},
   "cell_type": "markdown",
   "metadata": {},
   "source": [
    "Iterator là một đối tượng cho phép lặp lại các phần tử của một đối tượng iterable. Iterator giữ các thông tin về trạng thái hiện tại của một lần lặp và xác định phần tử tiếp theo được lặp lại. Các iterator được tạo bằng cách sử dụng hàm iter() và sử dụng hàm next() để lấy các giá trị tiếp theo."
   ]
  },
  {
   "cell_type": "code",
   "execution_count": 2,
   "metadata": {},
   "outputs": [
    {
     "name": "stdout",
     "output_type": "stream",
     "text": [
      "1\n",
      "2\n",
      "3\n"
     ]
    }
   ],
   "source": [
    "my_list = [1, 2, 3]\n",
    "my_iterator = iter(my_list)\n",
    "print(next(my_iterator)) # 1\n",
    "print(next(my_iterator)) # 2\n",
    "print(next(my_iterator)) # 3\n"
   ]
  },
  {
   "attachments": {},
   "cell_type": "markdown",
   "metadata": {},
   "source": [
    "Trong ví dụ trên, my_iterator là một iterator được tạo từ my_list. Hàm next() được sử dụng để lấy các giá trị tiếp theo của iterator."
   ]
  },
  {
   "attachments": {},
   "cell_type": "markdown",
   "metadata": {},
   "source": [
    "## Các ứng dụng của iterator trong Python bao gồm:\n",
    "\n",
    "1. Xử lý dữ liệu lớn: Iterator cho phép xử lý các tập dữ liệu lớn mà không cần lưu trữ toàn bộ dữ liệu trong bộ nhớ.\n",
    "\n",
    "2. Xử lý dữ liệu trực tiếp từ file: Với iterator, chúng ta có thể xử lý dữ liệu trực tiếp từ một file mà không cần đọc toàn bộ nó vào bộ nhớ.\n",
    "\n",
    "3. Lập trình song song: Iterator có thể được sử dụng để xử lý các tập dữ liệu song song trong các hệ thống phân tán.\n",
    "\n",
    "4. Xử lý các chuỗi vô hạn: Iterator cho phép tạo các chuỗi vô hạn, giúp giải quyết các vấn đề liên quan đến các chuỗi số lớn hoặc vô hạn."
   ]
  },
  {
   "cell_type": "code",
   "execution_count": 11,
   "metadata": {},
   "outputs": [
    {
     "name": "stdout",
     "output_type": "stream",
     "text": [
      "line 1 trong file data.txt\n",
      "\n",
      "line 2 trong file data.txt\n",
      "\n",
      "line 3 trong file data.txt\n"
     ]
    }
   ],
   "source": [
    "# Đọc dữ liệu từ file theo dòng:\n",
    "\n",
    "with open('data.txt', 'r') as f:\n",
    "    for line in iter(f.readline, ''):\n",
    "        print(line)"
   ]
  },
  {
   "cell_type": "code",
   "execution_count": 20,
   "metadata": {},
   "outputs": [
    {
     "name": "stdout",
     "output_type": "stream",
     "text": [
      "Xá»­ lÃ½ táº­p dá»¯ liá»‡u lá»›n > 30,000,000 line\n",
      "Xá»­ lÃ½ táº­p dá»¯ liá»‡u lá»›n > 30,000,000 line\n",
      "Xá»­ lÃ½ táº­p dá»¯ liá»‡u lá»›n > 30,000,000 line\n"
     ]
    }
   ],
   "source": [
    "# Xử lý tập dữ liệu lớn:\n",
    "def read_data(filename):\n",
    "    with open(filename, 'r') as f:\n",
    "        for line in f:\n",
    "            yield line.strip()\n",
    "\n",
    "# large_file có thể là một file có cả triệu gigabytes\n",
    "data = read_data('large_file.txt')\n",
    "for line in data:\n",
    "    print(line)"
   ]
  },
  {
   "cell_type": "code",
   "execution_count": 14,
   "metadata": {},
   "outputs": [
    {
     "name": "stdout",
     "output_type": "stream",
     "text": [
      "0\n",
      "1\n",
      "1\n",
      "2\n",
      "3\n",
      "5\n",
      "8\n",
      "13\n",
      "21\n",
      "34\n",
      "55\n"
     ]
    }
   ],
   "source": [
    "# Tạo chuỗi vô hạn:\n",
    "\n",
    "def fibonacci():\n",
    "    a, b = 0, 1\n",
    "    while True:\n",
    "        yield a\n",
    "        a, b = b, a + b\n",
    "\n",
    "for i, fib in enumerate(fibonacci()):\n",
    "    if i > 10:\n",
    "        break\n",
    "    print(fib)"
   ]
  },
  {
   "attachments": {},
   "cell_type": "markdown",
   "metadata": {},
   "source": [
    "- Triển khai Iterator in class"
   ]
  },
  {
   "cell_type": "code",
   "execution_count": 19,
   "metadata": {},
   "outputs": [
    {
     "name": "stdout",
     "output_type": "stream",
     "text": [
      "0\n",
      "1\n",
      "2\n",
      "3\n",
      "4\n"
     ]
    }
   ],
   "source": [
    "class MyIterator:\n",
    "    def __init__(self, start, end):\n",
    "        self.current = start\n",
    "        self.end = end\n",
    "\n",
    "    def __iter__(self):\n",
    "        return self\n",
    "\n",
    "    def __next__(self):\n",
    "        if self.current < self.end:\n",
    "            value = self.current\n",
    "            self.current += 1\n",
    "            return value\n",
    "        else:\n",
    "            raise StopIteration\n",
    "\n",
    "my_iterator = MyIterator(0, 5)\n",
    "for value in my_iterator:\n",
    "    print(value)\n"
   ]
  },
  {
   "attachments": {},
   "cell_type": "markdown",
   "metadata": {},
   "source": [
    "Trong Python, __iter__() là một method đặc biệt được sử dụng để tạo ra một iterable object. Nó được định nghĩa trong một class và trả về một iterator. Phương thức này thường được sử dụng để định nghĩa một iterator cho một class.\n",
    "\n",
    "Cụ thể, khi một đối tượng được tạo ra từ một class có phương thức __iter__(), nó trở thành một iterable object. Khi gọi hàm __iter__(), nó trả về một iterator object, và khi gọi hàm __next__() trên iterator object này, nó sẽ trả về giá trị kế tiếp trong sequence của iterable object."
   ]
  },
  {
   "attachments": {},
   "cell_type": "markdown",
   "metadata": {},
   "source": [
    "# Generator\n",
    "\n",
    "Generator là một loại hàm đặc biệt trong Python, cho phép tạo ra các giá trị một cách lười biếng (lazy). Generator sử dụng từ khóa yield để trả về giá trị và lưu trữ trạng thái hiện tại của hàm. Các generator có thể được lặp lại bằng cách sử dụng vòng lặp for."
   ]
  },
  {
   "cell_type": "code",
   "execution_count": 3,
   "metadata": {},
   "outputs": [
    {
     "name": "stdout",
     "output_type": "stream",
     "text": [
      "1\n",
      "2\n",
      "3\n"
     ]
    }
   ],
   "source": [
    "def my_generator():\n",
    "    yield 1\n",
    "    yield 2\n",
    "    yield 3\n",
    "\n",
    "for item in my_generator():\n",
    "    print(item)\n"
   ]
  },
  {
   "attachments": {},
   "cell_type": "markdown",
   "metadata": {},
   "source": [
    "Trong ví dụ trên, my_generator là một generator trả về các giá trị 1, 2 và 3. Các giá trị được trả về một cách lười biếng bởi từ khóa yield. Vòng lặp for được sử dụng để lặp lại các giá trị của generator."
   ]
  },
  {
   "attachments": {},
   "cell_type": "markdown",
   "metadata": {},
   "source": [
    "# Các ứng dụng của generator trong Python bao gồm:\n",
    "\n",
    "1. Tạo danh sách vô hạn các giá trị: Các generator có thể được sử dụng để tạo ra một chuỗi giá trị vô hạn mà không cần phải tạo tất cả các giá trị đó trong bộ nhớ. Ví dụ: tạo một generator cho các số nguyên dương lẻ vô hạn:"
   ]
  },
  {
   "cell_type": "code",
   "execution_count": 15,
   "metadata": {},
   "outputs": [
    {
     "name": "stdout",
     "output_type": "stream",
     "text": [
      "1\n",
      "3\n",
      "5\n",
      "7\n",
      "9\n",
      "11\n",
      "13\n",
      "15\n",
      "17\n",
      "19\n"
     ]
    }
   ],
   "source": [
    "def odd_numbers():\n",
    "    i = 1\n",
    "    while True:\n",
    "        yield i\n",
    "        i += 2\n",
    "\n",
    "# sử dụng generator để in ra 10 số lẻ đầu tiên\n",
    "gen = odd_numbers()\n",
    "for i in range(10):\n",
    "    print(next(gen))"
   ]
  },
  {
   "attachments": {},
   "cell_type": "markdown",
   "metadata": {},
   "source": [
    "2. Xử lý dữ liệu lớn: Khi xử lý các tập dữ liệu lớn, sử dụng generator có thể giúp tránh tình trạng tràn bộ nhớ bằng cách chỉ xử lý từng phần dữ liệu một thay vì tải toàn bộ dữ liệu lên bộ nhớ.\n",
    "\n",
    "3. Xử lý các tập dữ liệu vô hạn: Các generator cho phép xử lý các tập dữ liệu vô hạn hoặc có thể tạo ra các giá trị theo yêu cầu. Ví dụ: các tập dữ liệu đến từ nguồn trực tuyến như các dữ liệu đang được cập nhật liên tục."
   ]
  },
  {
   "attachments": {},
   "cell_type": "markdown",
   "metadata": {},
   "source": [
    "4. Tạo các giá trị phức tạp: Các generator có thể được sử dụng để tạo ra các giá trị phức tạp bằng cách kết hợp nhiều đầu vào hoặc sử dụng các giá trị ngẫu nhiên để tạo ra các giá trị mới. Ví dụ: tạo một generator cho các số Fibonacci vô hạn."
   ]
  },
  {
   "cell_type": "code",
   "execution_count": 16,
   "metadata": {},
   "outputs": [
    {
     "name": "stdout",
     "output_type": "stream",
     "text": [
      "0\n",
      "1\n",
      "1\n",
      "2\n",
      "3\n",
      "5\n",
      "8\n",
      "13\n",
      "21\n",
      "34\n"
     ]
    }
   ],
   "source": [
    "def fibonacci():\n",
    "    a, b = 0, 1\n",
    "    while True:\n",
    "        yield a\n",
    "        a, b = b, a + b\n",
    "\n",
    "# sử dụng generator để in ra 10 số Fibonacci đầu tiên\n",
    "gen = fibonacci()\n",
    "for i in range(10):\n",
    "    print(next(gen))\n"
   ]
  },
  {
   "attachments": {},
   "cell_type": "markdown",
   "metadata": {},
   "source": [
    "5. Tối ưu hóa hiệu suất: Sử dụng generator có thể giúp tối ưu hóa hiệu suất của chương trình bằng cách giảm thiểu việc tạo ra các đối tượng và thực hiện các phép tính trên đối tượng đó. Thay vào đó, generator chỉ tạo ra các giá trị khi cần thiết và thực hiện các phép tính trên giá trị đó."
   ]
  },
  {
   "attachments": {},
   "cell_type": "markdown",
   "metadata": {},
   "source": [
    "Summary:\n",
    "- Iterable là một đối tượng có thể được lặp lại (loop) qua mỗi phần tử trong đó bằng cách sử dụng vòng lặp, ví dụ như list, tuple, dictionary, set, string,...\n",
    "\n",
    "- Iterator là một đối tượng cho phép duyệt qua các phần tử của một iterable. Khi duyệt qua iterator, nó sẽ giữ vị trí của phần tử tiếp theo và trả về phần tử tiếp theo mỗi lần gọi hàm next(). Iterator không thể lặp lại nhiều lần qua các phần tử, chỉ có thể lặp lại một lần.\n",
    "\n",
    "- Generator là một cách để tạo ra các giá trị trong một chuỗi một cách linh hoạt hơn. Nó giống như một hàm, nhưng sẽ không trả về giá trị ngay lập tức mà sẽ trả về một iterator có thể lặp lại nhiều lần để lấy các giá trị. Generator sử dụng từ khóa yield để trả về giá trị, và khi gặp yield trong generator, nó sẽ tạm dừng và giữ lại trạng thái để có thể tiếp tục chạy từ điểm tạm dừng đó khi gọi next() tiếp theo."
   ]
  },
  {
   "cell_type": "code",
   "execution_count": 6,
   "metadata": {},
   "outputs": [
    {
     "name": "stdout",
     "output_type": "stream",
     "text": [
      "1\n",
      "2\n",
      "3\n",
      "4\n"
     ]
    }
   ],
   "source": [
    "# VD: iterable\n",
    "my_list = [1, 2, 3, 4]\n",
    "for i in my_list:\n",
    "    print(i)"
   ]
  },
  {
   "cell_type": "code",
   "execution_count": 7,
   "metadata": {},
   "outputs": [
    {
     "name": "stdout",
     "output_type": "stream",
     "text": [
      "1\n",
      "2\n"
     ]
    }
   ],
   "source": [
    "# VD: iterator\n",
    "my_list = [1, 2, 3, 4]\n",
    "my_iterator = iter(my_list)\n",
    "print(next(my_iterator))\n",
    "print(next(my_iterator))\n"
   ]
  },
  {
   "cell_type": "code",
   "execution_count": 8,
   "metadata": {},
   "outputs": [
    {
     "name": "stdout",
     "output_type": "stream",
     "text": [
      "1\n",
      "2\n"
     ]
    }
   ],
   "source": [
    "\n",
    "\n",
    "# Vd: generator\n",
    "def my_generator():\n",
    "    yield 1\n",
    "    yield 2\n",
    "    yield 3\n",
    "\n",
    "my_gen = my_generator()\n",
    "print(next(my_gen))\n",
    "print(next(my_gen))\n"
   ]
  }
 ],
 "metadata": {
  "kernelspec": {
   "display_name": ".env",
   "language": "python",
   "name": "python3"
  },
  "language_info": {
   "codemirror_mode": {
    "name": "ipython",
    "version": 3
   },
   "file_extension": ".py",
   "mimetype": "text/x-python",
   "name": "python",
   "nbconvert_exporter": "python",
   "pygments_lexer": "ipython3",
   "version": "3.11.2"
  },
  "orig_nbformat": 4
 },
 "nbformat": 4,
 "nbformat_minor": 2
}
