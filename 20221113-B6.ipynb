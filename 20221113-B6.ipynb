{
 "cells": [
  {
   "cell_type": "code",
   "execution_count": 8,
   "metadata": {},
   "outputs": [
    {
     "name": "stdout",
     "output_type": "stream",
     "text": [
      "Lan Anh <class 'str'>\n",
      "('NguyenNC', 'A', 'B', 'C') <class 'tuple'>\n"
     ]
    }
   ],
   "source": [
    "def print_names(name, *args):\n",
    "    print(name, type(name))\n",
    "    print(args, type(args))\n",
    "\n",
    "print_names(\"Lan Anh\", \"NguyenNC\", \"A\", \"B\", \"C\")"
   ]
  },
  {
   "cell_type": "code",
   "execution_count": 15,
   "metadata": {},
   "outputs": [
    {
     "name": "stdout",
     "output_type": "stream",
     "text": [
      "Lan Anh 20 DB\n",
      "{'city': 'TP dien bien phu', 'status': 'đang ở nhà'} <class 'dict'>\n"
     ]
    }
   ],
   "source": [
    "# kwargs\n",
    "def print_object(name=\"Lan Anh\", age=\"20\", address=\"DB\", **kwargs):\n",
    "    print(name, age, address)\n",
    "    print(kwargs, type(kwargs))\n",
    "\n",
    "print_object(city=\"TP dien bien phu\", status=\"đang ở nhà\")"
   ]
  },
  {
   "cell_type": "markdown",
   "metadata": {},
   "source": [
    "- *args -> cho phép nhập vào không giới hạn arguments\n",
    "- **kwargs -> cho phép function nhận vào không giới hạn key word arguments\n",
    "\n",
    "=> khi mà định nghĩa function mà có hai cái *args và **kwargs thì chúa mới biết function nó nhận vào cái gì :D\n",
    "\n",
    "VD:\n",
    "```python\n",
    "def my_function(*args, **kwargs):\n",
    "\n",
    "    # nhận vào không giới hạn input\n",
    "    print(args)\n",
    "    print(kwargs)\n",
    "```"
   ]
  },
  {
   "cell_type": "code",
   "execution_count": 16,
   "metadata": {},
   "outputs": [
    {
     "ename": "SyntaxError",
     "evalue": "positional argument follows keyword argument (2410340287.py, line 4)",
     "output_type": "error",
     "traceback": [
      "\u001b[1;36m  Cell \u001b[1;32mIn [16], line 4\u001b[1;36m\u001b[0m\n\u001b[1;33m    my_function(name=\"Lan anh\", 20)\u001b[0m\n\u001b[1;37m                                  ^\u001b[0m\n\u001b[1;31mSyntaxError\u001b[0m\u001b[1;31m:\u001b[0m positional argument follows keyword argument\n"
     ]
    }
   ],
   "source": [
    "def my_function(*args, **kwargs):\n",
    "    print(args, kwargs)\n",
    "\n",
    "my_function(name=\"Lan anh\", 20)"
   ]
  },
  {
   "cell_type": "code",
   "execution_count": 18,
   "metadata": {},
   "outputs": [
    {
     "name": "stdout",
     "output_type": "stream",
     "text": [
      "(20,) {'name': 'Lan Anh'}\n"
     ]
    }
   ],
   "source": [
    "def my_function(*args, **kwargs):\n",
    "    print(args, kwargs)\n",
    "\n",
    "my_function(20, name=\"Lan Anh\")"
   ]
  }
 ],
 "metadata": {
  "kernelspec": {
   "display_name": "Python 3.10.8 ('venv': venv)",
   "language": "python",
   "name": "python3"
  },
  "language_info": {
   "codemirror_mode": {
    "name": "ipython",
    "version": 3
   },
   "file_extension": ".py",
   "mimetype": "text/x-python",
   "name": "python",
   "nbconvert_exporter": "python",
   "pygments_lexer": "ipython3",
   "version": "3.10.8"
  },
  "orig_nbformat": 4,
  "vscode": {
   "interpreter": {
    "hash": "344cf87e82846b8baa72eef03416ddf435a631f3f9fe88eeac8a4480010abfd5"
   }
  }
 },
 "nbformat": 4,
 "nbformat_minor": 2
}
