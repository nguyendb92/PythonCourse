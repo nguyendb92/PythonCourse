{
 "cells": [
  {
   "cell_type": "markdown",
   "metadata": {},
   "source": [
    "# List"
   ]
  },
  {
   "cell_type": "code",
   "execution_count": 18,
   "metadata": {},
   "outputs": [
    {
     "name": "stdout",
     "output_type": "stream",
     "text": [
      "<class 'list'>\n",
      "<class 'tuple'>\n",
      "Count 3 in t:  4\n",
      "Count 3 in l:  4\n",
      "[1, 2, 3, 4, 5, 3, 3, 3, 6] (1, 2, 3, 4, 5, 3, 3, 3)\n"
     ]
    }
   ],
   "source": [
    "l = [1, 2, 3, 4, 5, 3, 3, 3]\n",
    "t = tuple(l)\n",
    "print(type(l))\n",
    "print(type(t))\n",
    "l.append(6) # Thêm 6 vào cuối danh sách của l => [1, 2, 3, 4, 5, 3, 3, 3, 6]\n",
    "print(\"Count 3 in t: \", t.count(3))\n",
    "print(\"Count 3 in l: \", l.count(3))\n",
    "print(l, t)"
   ]
  },
  {
   "cell_type": "code",
   "execution_count": 13,
   "metadata": {},
   "outputs": [
    {
     "name": "stdout",
     "output_type": "stream",
     "text": [
      "\u001b[1;31mSignature:\u001b[0m \u001b[0ml\u001b[0m\u001b[1;33m.\u001b[0m\u001b[0mappend\u001b[0m\u001b[1;33m(\u001b[0m\u001b[0mobject\u001b[0m\u001b[1;33m,\u001b[0m \u001b[1;33m/\u001b[0m\u001b[1;33m)\u001b[0m\u001b[1;33m\u001b[0m\u001b[1;33m\u001b[0m\u001b[0m\n",
      "\u001b[1;31mDocstring:\u001b[0m Append object to the end of the list.\n",
      "\u001b[1;31mType:\u001b[0m      builtin_function_or_method\n"
     ]
    }
   ],
   "source": [
    "l.append?"
   ]
  },
  {
   "cell_type": "code",
   "execution_count": 17,
   "metadata": {},
   "outputs": [
    {
     "name": "stdout",
     "output_type": "stream",
     "text": [
      "L:  [1, 2, 3, 4, 5, 3, 3, 3, 6, [2, 2, 'two'], {'name': 'Lan Anh'}, (1, 2, 3), {1, 2, 3}]\n"
     ]
    }
   ],
   "source": [
    "# append 1 list, dict, tuple, set into list\n",
    "l.append([2, 2, \"two\"])\n",
    "l.append({\"name\": \"Lan Anh\"})\n",
    "l.append((1, 2, 3))\n",
    "l.append({1, 2, 3})\n",
    "print(\"L: \", l)"
   ]
  },
  {
   "cell_type": "markdown",
   "metadata": {},
   "source": [
    "- => List chứa được mọi kiểu dữ liệu (object)\n",
    "- Note: Mọi thứ trong python đều là object"
   ]
  },
  {
   "cell_type": "code",
   "execution_count": 20,
   "metadata": {},
   "outputs": [
    {
     "ename": "TypeError",
     "evalue": "'<' not supported between instances of 'str' and 'int'",
     "output_type": "error",
     "traceback": [
      "\u001b[1;31m---------------------------------------------------------------------------\u001b[0m",
      "\u001b[1;31mTypeError\u001b[0m                                 Traceback (most recent call last)",
      "Cell \u001b[1;32mIn [20], line 3\u001b[0m\n\u001b[0;32m      1\u001b[0m L2 \u001b[39m=\u001b[39m [\u001b[39m1\u001b[39m, \u001b[39m3\u001b[39m, \u001b[39m2\u001b[39m, \u001b[39m4\u001b[39m, \u001b[39m\"\u001b[39m\u001b[39ma\u001b[39m\u001b[39m\"\u001b[39m, \u001b[39m\"\u001b[39m\u001b[39mb\u001b[39m\u001b[39m\"\u001b[39m, \u001b[39m\"\u001b[39m\u001b[39md\u001b[39m\u001b[39m\"\u001b[39m, \u001b[39m\"\u001b[39m\u001b[39mc\u001b[39m\u001b[39m\"\u001b[39m]\n\u001b[0;32m      2\u001b[0m \u001b[39m# Bài toán là sort cái list L2\u001b[39;00m\n\u001b[1;32m----> 3\u001b[0m L2\u001b[39m.\u001b[39;49msort() \u001b[39m# method sort() sẽ làm thay đổi list L2 chứ không tạo ra list mới\u001b[39;00m\n\u001b[0;32m      4\u001b[0m \u001b[39mprint\u001b[39m(L2)\n",
      "\u001b[1;31mTypeError\u001b[0m: '<' not supported between instances of 'str' and 'int'"
     ]
    }
   ],
   "source": [
    "L2 = [1, 3, 2, 4, \"a\", \"b\", \"d\", \"c\"]\n",
    "# Bài toán là sort cái list L2\n",
    "L2.sort() # method sort() sẽ làm thay đổi list L2 chứ không tạo ra list mới\n",
    "print(L2)\n"
   ]
  },
  {
   "cell_type": "markdown",
   "metadata": {},
   "source": [
    "- method sort sẽ raise Error nếu các item trong list không nhất quán kiểu dữ liệu"
   ]
  },
  {
   "cell_type": "code",
   "execution_count": 27,
   "metadata": {},
   "outputs": [
    {
     "name": "stdout",
     "output_type": "stream",
     "text": [
      "ID L3 before:  1462608170880\n",
      "ID L3 after:  1462608170880\n",
      "['a', 'b', 'c', 'd']\n",
      "[1, 2, 3, 4, 5]\n"
     ]
    }
   ],
   "source": [
    "L3 = [\"a\", \"b\", \"d\", \"c\"]\n",
    "print(\"ID L3 before: \", id(L3))\n",
    "L3.sort()\n",
    "L4 = [1, 4, 5, 2, 3]\n",
    "L4.sort()\n",
    "print(\"ID L3 after: \", id(L3))\n",
    "print(L3)\n",
    "print(L4)\n"
   ]
  },
  {
   "cell_type": "code",
   "execution_count": 25,
   "metadata": {},
   "outputs": [
    {
     "name": "stdout",
     "output_type": "stream",
     "text": [
      "[1, 2, 3, 4, 'a', 'b', 'd', 'c']\n"
     ]
    },
    {
     "ename": "TypeError",
     "evalue": "'<' not supported between instances of 'str' and 'int'",
     "output_type": "error",
     "traceback": [
      "\u001b[1;31m---------------------------------------------------------------------------\u001b[0m",
      "\u001b[1;31mTypeError\u001b[0m                                 Traceback (most recent call last)",
      "Cell \u001b[1;32mIn [25], line 2\u001b[0m\n\u001b[0;32m      1\u001b[0m \u001b[39mprint\u001b[39m(L2)\n\u001b[1;32m----> 2\u001b[0m \u001b[39mprint\u001b[39m(\u001b[39msorted\u001b[39;49m(L2))\n",
      "\u001b[1;31mTypeError\u001b[0m: '<' not supported between instances of 'str' and 'int'"
     ]
    }
   ],
   "source": [
    "print(L2)\n",
    "print(sorted(L2)) "
   ]
  },
  {
   "cell_type": "markdown",
   "metadata": {},
   "source": [
    "- sorted() là build-in function \n",
    "- khi sử dụng sorted() thì nó sẽ tạo ra một list mới"
   ]
  },
  {
   "cell_type": "code",
   "execution_count": 26,
   "metadata": {},
   "outputs": [
    {
     "name": "stdout",
     "output_type": "stream",
     "text": [
      "id 1462608057600\n",
      "[1, 2, 3, 5, 6, 8] 1462576527424\n"
     ]
    }
   ],
   "source": [
    "L5 = [1, 3, 2, 5, 8, 6]\n",
    "print(\"id\", id(L5))\n",
    "result = sorted(L5)\n",
    "print(result, id(result))"
   ]
  },
  {
   "cell_type": "code",
   "execution_count": 30,
   "metadata": {},
   "outputs": [
    {
     "name": "stdout",
     "output_type": "stream",
     "text": [
      "\u001b[1;31mSignature:\u001b[0m \u001b[0mL5\u001b[0m\u001b[1;33m.\u001b[0m\u001b[0msort\u001b[0m\u001b[1;33m(\u001b[0m\u001b[1;33m*\u001b[0m\u001b[1;33m,\u001b[0m \u001b[0mkey\u001b[0m\u001b[1;33m=\u001b[0m\u001b[1;32mNone\u001b[0m\u001b[1;33m,\u001b[0m \u001b[0mreverse\u001b[0m\u001b[1;33m=\u001b[0m\u001b[1;32mFalse\u001b[0m\u001b[1;33m)\u001b[0m\u001b[1;33m\u001b[0m\u001b[1;33m\u001b[0m\u001b[0m\n",
      "\u001b[1;31mDocstring:\u001b[0m\n",
      "Sort the list in ascending order and return None.\n",
      "\n",
      "The sort is in-place (i.e. the list itself is modified) and stable (i.e. the\n",
      "order of two equal elements is maintained).\n",
      "\n",
      "If a key function is given, apply it once to each list item and sort them,\n",
      "ascending or descending, according to their function values.\n",
      "\n",
      "The reverse flag can be set to sort in descending order.\n",
      "\u001b[1;31mType:\u001b[0m      builtin_function_or_method\n"
     ]
    }
   ],
   "source": [
    "L5.sort?"
   ]
  },
  {
   "cell_type": "code",
   "execution_count": 29,
   "metadata": {},
   "outputs": [
    {
     "name": "stdout",
     "output_type": "stream",
     "text": [
      "\u001b[1;31mSignature:\u001b[0m \u001b[0msorted\u001b[0m\u001b[1;33m(\u001b[0m\u001b[0miterable\u001b[0m\u001b[1;33m,\u001b[0m \u001b[1;33m/\u001b[0m\u001b[1;33m,\u001b[0m \u001b[1;33m*\u001b[0m\u001b[1;33m,\u001b[0m \u001b[0mkey\u001b[0m\u001b[1;33m=\u001b[0m\u001b[1;32mNone\u001b[0m\u001b[1;33m,\u001b[0m \u001b[0mreverse\u001b[0m\u001b[1;33m=\u001b[0m\u001b[1;32mFalse\u001b[0m\u001b[1;33m)\u001b[0m\u001b[1;33m\u001b[0m\u001b[1;33m\u001b[0m\u001b[0m\n",
      "\u001b[1;31mDocstring:\u001b[0m\n",
      "Return a new list containing all items from the iterable in ascending order.\n",
      "\n",
      "A custom key function can be supplied to customize the sort order, and the\n",
      "reverse flag can be set to request the result in descending order.\n",
      "\u001b[1;31mType:\u001b[0m      builtin_function_or_method\n"
     ]
    }
   ],
   "source": [
    "sorted?"
   ]
  },
  {
   "cell_type": "markdown",
   "metadata": {},
   "source": [
    "=> Tùy mục đích sử dụng sort() hay sorted()\n",
    "\n",
    "    - khi không muốn thay đổi list cũ thì dùng sorted() và ngược lại."
   ]
  },
  {
   "cell_type": "code",
   "execution_count": 31,
   "metadata": {},
   "outputs": [],
   "source": [
    "# sort một list chứa các tuple, dict\n",
    "t_list = [(1, \"A\"), (3, \"B\"), (2, \"C\")] # KQ: [(1, \"A\"), (2, \"C\"), (3, \"B\")]\n",
    "\n",
    "# sort theo thứ tự của count theo chiều tăng dần\n",
    "d_list = [{\"count\": 1, \"name\": \"Lan Anh\"}, {\"count\": 3, \"name\": \"Lan Anh 2\"}, {\"count\": 2, \"name\": \"Lan Anh 3\"}]\n",
    "# KQ: [{\"count\": 1, \"name\": \"Lan Anh\"}, {\"count\": 2, \"name\": \"Lan Anh 3\"}, {\"count\": 3, \"name\": \"Lan Anh 2\"}]\n"
   ]
  },
  {
   "cell_type": "code",
   "execution_count": 35,
   "metadata": {},
   "outputs": [
    {
     "data": {
      "text/plain": [
       "[{'count': 1, 'name': 'Lan Anh'},\n",
       " {'count': 2, 'name': 'Lan Anh 3'},\n",
       " {'count': 3, 'name': 'Lan Anh 2'}]"
      ]
     },
     "execution_count": 35,
     "metadata": {},
     "output_type": "execute_result"
    }
   ],
   "source": [
    "# định nghĩa function style 01\n",
    "def get_key(item):\n",
    "    return item[\"count\"]\n",
    "\n",
    "sorted(d_list, key=get_key)"
   ]
  },
  {
   "cell_type": "code",
   "execution_count": 36,
   "metadata": {},
   "outputs": [
    {
     "data": {
      "text/plain": [
       "[{'count': 1, 'name': 'Lan Anh'},\n",
       " {'count': 2, 'name': 'Lan Anh 3'},\n",
       " {'count': 3, 'name': 'Lan Anh 2'}]"
      ]
     },
     "execution_count": 36,
     "metadata": {},
     "output_type": "execute_result"
    }
   ],
   "source": [
    "# định nghĩa function style 02\n",
    "sorted(d_list, key=lambda item: item[\"count\"])"
   ]
  },
  {
   "cell_type": "markdown",
   "metadata": {},
   "source": [
    "# BT\n",
    "d_list = [{\"count\": [1, 2, 3], \"name\": \"Lan Anh\"}, {\"count\": [3, 4, 5, 10], \"name\": \"Lan Anh 2\"}, {\"count\": [2, 7, 9], \"name\": \"Lan Anh 3\"}]\n",
    "- sort theo key \"count\" và dựa vào giá trị cuối cùng của list"
   ]
  },
  {
   "cell_type": "code",
   "execution_count": 37,
   "metadata": {},
   "outputs": [
    {
     "data": {
      "text/plain": [
       "[{'count': [1, 2, 3], 'name': 'Lan Anh'},\n",
       " {'count': [2, 7, 9], 'name': 'Lan Anh 3'},\n",
       " {'count': [3, 4, 5, 10], 'name': 'Lan Anh 2'}]"
      ]
     },
     "execution_count": 37,
     "metadata": {},
     "output_type": "execute_result"
    }
   ],
   "source": [
    "d_list = [{\"count\": [1, 2, 3], \"name\": \"Lan Anh\"}, {\"count\": [3, 4, 5, 10], \"name\": \"Lan Anh 2\"}, {\"count\": [2, 7, 9], \"name\": \"Lan Anh 3\"}]\n",
    "sorted(d_list, key=lambda item: item[\"count\"][-1])"
   ]
  },
  {
   "cell_type": "code",
   "execution_count": 39,
   "metadata": {},
   "outputs": [
    {
     "name": "stdout",
     "output_type": "stream",
     "text": [
      "\u001b[1;31mSignature:\u001b[0m \u001b[0ml\u001b[0m\u001b[1;33m.\u001b[0m\u001b[0mreverse\u001b[0m\u001b[1;33m(\u001b[0m\u001b[1;33m)\u001b[0m\u001b[1;33m\u001b[0m\u001b[1;33m\u001b[0m\u001b[0m\n",
      "\u001b[1;31mDocstring:\u001b[0m Reverse *IN PLACE*.\n",
      "\u001b[1;31mType:\u001b[0m      builtin_function_or_method\n"
     ]
    }
   ],
   "source": [
    "l = [1, 2, 3, 4]\n",
    "l.reverse?"
   ]
  },
  {
   "cell_type": "code",
   "execution_count": 42,
   "metadata": {},
   "outputs": [
    {
     "name": "stdout",
     "output_type": "stream",
     "text": [
      "None\n"
     ]
    },
    {
     "data": {
      "text/plain": [
       "[4, 3, 2, 1]"
      ]
     },
     "execution_count": 42,
     "metadata": {},
     "output_type": "execute_result"
    }
   ],
   "source": [
    "print(l.reverse())\n",
    "l"
   ]
  },
  {
   "cell_type": "code",
   "execution_count": 48,
   "metadata": {},
   "outputs": [
    {
     "name": "stdout",
     "output_type": "stream",
     "text": [
      "[4, 3, 2, 1]\n",
      "[4, 3, 2, 1] [4, 3, 2, 1]\n",
      "False\n",
      "True\n"
     ]
    }
   ],
   "source": [
    "# copy\n",
    "l2 = l.copy()\n",
    "print(l2)\n",
    "# l2.append(6)\n",
    "print(l2, l)\n",
    "print(l2 is l)\n",
    "print(l2 == l)\n"
   ]
  },
  {
   "cell_type": "markdown",
   "metadata": {},
   "source": [
    "# deepcopy\n",
    "# copy vs deepcopy:\n",
    "- Lấy ví dụ tự làm\n",
    "\n",
    "  -Note: BT tự làm buổi sau kiểm tra"
   ]
  },
  {
   "cell_type": "code",
   "execution_count": 52,
   "metadata": {},
   "outputs": [
    {
     "name": "stdout",
     "output_type": "stream",
     "text": [
      "False\n",
      "True\n",
      "[1, 2, 3, 4]\n"
     ]
    }
   ],
   "source": [
    "# copy dùng indexing\n",
    "l3 = l[:]\n",
    "print(l3 is l)\n",
    "print(l3 == l)\n",
    "# sử dụng slicing để đảo ngược list\n",
    "print(l[::-1])"
   ]
  },
  {
   "cell_type": "code",
   "execution_count": 60,
   "metadata": {},
   "outputs": [
    {
     "name": "stdout",
     "output_type": "stream",
     "text": [
      "6\n",
      "[1, 2, 3, 4, 5]\n"
     ]
    },
    {
     "name": "stdout",
     "output_type": "stream",
     "text": [
      "\u001b[1;31mSignature:\u001b[0m \u001b[0ml\u001b[0m\u001b[1;33m.\u001b[0m\u001b[0mpop\u001b[0m\u001b[1;33m(\u001b[0m\u001b[0mindex\u001b[0m\u001b[1;33m=\u001b[0m\u001b[1;33m-\u001b[0m\u001b[1;36m1\u001b[0m\u001b[1;33m,\u001b[0m \u001b[1;33m/\u001b[0m\u001b[1;33m)\u001b[0m\u001b[1;33m\u001b[0m\u001b[1;33m\u001b[0m\u001b[0m\n",
      "\u001b[1;31mDocstring:\u001b[0m\n",
      "Remove and return item at index (default last).\n",
      "\n",
      "Raises IndexError if list is empty or index is out of range.\n",
      "\u001b[1;31mType:\u001b[0m      builtin_function_or_method\n"
     ]
    }
   ],
   "source": [
    "l = [1, 2, 3, 4, 5, 6]\n",
    "print(l.pop())\n",
    "# pop xóa và lấy phần tử cuối cùng của list\n",
    "print(l)\n",
    "\n",
    "l.pop?"
   ]
  },
  {
   "cell_type": "code",
   "execution_count": 61,
   "metadata": {},
   "outputs": [
    {
     "name": "stdout",
     "output_type": "stream",
     "text": [
      "[1, 2, 3, 4, 5, 2, 2, 2, 2]\n"
     ]
    }
   ],
   "source": [
    "l.extend([2, 2, 2, 2])\n",
    "print(l)"
   ]
  }
 ],
 "metadata": {
  "kernelspec": {
   "display_name": "Python 3.10.8 ('venv': venv)",
   "language": "python",
   "name": "python3"
  },
  "language_info": {
   "codemirror_mode": {
    "name": "ipython",
    "version": 3
   },
   "file_extension": ".py",
   "mimetype": "text/x-python",
   "name": "python",
   "nbconvert_exporter": "python",
   "pygments_lexer": "ipython3",
   "version": "3.10.8"
  },
  "orig_nbformat": 4,
  "vscode": {
   "interpreter": {
    "hash": "344cf87e82846b8baa72eef03416ddf435a631f3f9fe88eeac8a4480010abfd5"
   }
  }
 },
 "nbformat": 4,
 "nbformat_minor": 2
}
