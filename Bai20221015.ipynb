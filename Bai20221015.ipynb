{
 "cells": [
  {
   "cell_type": "markdown",
   "metadata": {},
   "source": [
    "# setup enviroment\n",
    "\n",
    "- Tạo môi trường ảo\n",
    "   > python -m venv venv\n",
    "- Học cách activate và deactivate môi trường ảo\n",
    "   - venv\\scripts\\activate\n",
    "   - deactivate\n",
    "- Sử dụng pip để cài đặt thư viện ipython\n",
    "- Hiểu thư viện ipython và sử dụng ipython"
   ]
  }
 ],
 "metadata": {
  "kernelspec": {
   "display_name": "Python 3.10.8 64-bit",
   "language": "python",
   "name": "python3"
  },
  "language_info": {
   "name": "python",
   "version": "3.10.8"
  },
  "orig_nbformat": 4,
  "vscode": {
   "interpreter": {
    "hash": "39bb5f040324cd5bdfb04e9991e86fae456ce941224562c87366ea4f879b35e3"
   }
  }
 },
 "nbformat": 4,
 "nbformat_minor": 2
}
